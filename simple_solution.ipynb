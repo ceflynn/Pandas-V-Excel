{
 "cells": [
  {
   "cell_type": "code",
   "execution_count": 1,
   "metadata": {},
   "outputs": [],
   "source": [
    "import pandas as pd\n",
    "import numpy as np\n"
   ]
  },
  {
   "cell_type": "code",
   "execution_count": 19,
   "metadata": {},
   "outputs": [
    {
     "data": {
      "text/html": [
       "<div>\n",
       "<style scoped>\n",
       "    .dataframe tbody tr th:only-of-type {\n",
       "        vertical-align: middle;\n",
       "    }\n",
       "\n",
       "    .dataframe tbody tr th {\n",
       "        vertical-align: top;\n",
       "    }\n",
       "\n",
       "    .dataframe thead th {\n",
       "        text-align: right;\n",
       "    }\n",
       "</style>\n",
       "<table border=\"1\" class=\"dataframe\">\n",
       "  <thead>\n",
       "    <tr style=\"text-align: right;\">\n",
       "      <th></th>\n",
       "      <th>Unique ID</th>\n",
       "      <th>Gardian Name</th>\n",
       "      <th>Email</th>\n",
       "      <th>Address</th>\n",
       "      <th>Scholar Name</th>\n",
       "      <th>Scholar Grade</th>\n",
       "      <th>Scholar 1 Enrollment Status</th>\n",
       "    </tr>\n",
       "  </thead>\n",
       "  <tbody>\n",
       "    <tr>\n",
       "      <th>0</th>\n",
       "      <td>7356714015</td>\n",
       "      <td>London Cameron</td>\n",
       "      <td>rasca@outlook.com</td>\n",
       "      <td>2856 Rhonda Lane Denver CO 80207</td>\n",
       "      <td>Atticus Jackson</td>\n",
       "      <td>K</td>\n",
       "      <td>Application Submitted</td>\n",
       "    </tr>\n",
       "    <tr>\n",
       "      <th>1</th>\n",
       "      <td>3233233322</td>\n",
       "      <td>Marley Allen</td>\n",
       "      <td>Marley.Allen@gmail.com</td>\n",
       "      <td>1638 E Washington St Denver CO 80219</td>\n",
       "      <td>Carlo Huang</td>\n",
       "      <td>Second</td>\n",
       "      <td>Currently Enrolled</td>\n",
       "    </tr>\n",
       "    <tr>\n",
       "      <th>2</th>\n",
       "      <td>4344344433</td>\n",
       "      <td>Yair Harrington</td>\n",
       "      <td>Yair.Harrington@gmail.com</td>\n",
       "      <td>628 n Lafayette st. Denver CO 80219</td>\n",
       "      <td>Mitchell Castillo</td>\n",
       "      <td>Second</td>\n",
       "      <td>Currently Enrolled</td>\n",
       "    </tr>\n",
       "    <tr>\n",
       "      <th>3</th>\n",
       "      <td>5467891234</td>\n",
       "      <td>Ashanti Huynh</td>\n",
       "      <td>Ashanti.Huynh@gmail.com</td>\n",
       "      <td>58 S 2nd street Denver CO 80219</td>\n",
       "      <td>Melina Ward</td>\n",
       "      <td>Second</td>\n",
       "      <td>Currently Enrolled</td>\n",
       "    </tr>\n",
       "    <tr>\n",
       "      <th>4</th>\n",
       "      <td>7899877799</td>\n",
       "      <td>Ashanti Sellers</td>\n",
       "      <td>Ashanti.Sellers@gmail.com</td>\n",
       "      <td>58 S 2nd Street Denver CO 80219</td>\n",
       "      <td>Braden McClain</td>\n",
       "      <td>Second</td>\n",
       "      <td>Currently Enrolled</td>\n",
       "    </tr>\n",
       "  </tbody>\n",
       "</table>\n",
       "</div>"
      ],
      "text/plain": [
       "    Unique ID     Gardian Name                      Email  \\\n",
       "0  7356714015   London Cameron          rasca@outlook.com   \n",
       "1  3233233322     Marley Allen     Marley.Allen@gmail.com   \n",
       "2  4344344433  Yair Harrington  Yair.Harrington@gmail.com   \n",
       "3  5467891234    Ashanti Huynh    Ashanti.Huynh@gmail.com   \n",
       "4  7899877799  Ashanti Sellers  Ashanti.Sellers@gmail.com   \n",
       "\n",
       "                                Address       Scholar Name Scholar Grade  \\\n",
       "0      2856 Rhonda Lane Denver CO 80207    Atticus Jackson             K   \n",
       "1  1638 E Washington St Denver CO 80219        Carlo Huang        Second   \n",
       "2   628 n Lafayette st. Denver CO 80219  Mitchell Castillo        Second   \n",
       "3       58 S 2nd street Denver CO 80219        Melina Ward        Second   \n",
       "4       58 S 2nd Street Denver CO 80219     Braden McClain        Second   \n",
       "\n",
       "  Scholar 1 Enrollment Status  \n",
       "0       Application Submitted  \n",
       "1          Currently Enrolled  \n",
       "2          Currently Enrolled  \n",
       "3          Currently Enrolled  \n",
       "4          Currently Enrolled  "
      ]
     },
     "execution_count": 19,
     "metadata": {},
     "output_type": "execute_result"
    }
   ],
   "source": [
    "df = pd.read_excel('data/address_data.xlsx')\n",
    "df.head()"
   ]
  },
  {
   "cell_type": "markdown",
   "metadata": {},
   "source": [
    "## Name Columns\n",
    "\n",
    "Change the Guardian Name and Scholar Name Columns to First and Last name columns for both Scholar and Guardian"
   ]
  },
  {
   "cell_type": "code",
   "execution_count": 43,
   "metadata": {},
   "outputs": [
    {
     "data": {
      "text/html": [
       "<div>\n",
       "<style scoped>\n",
       "    .dataframe tbody tr th:only-of-type {\n",
       "        vertical-align: middle;\n",
       "    }\n",
       "\n",
       "    .dataframe tbody tr th {\n",
       "        vertical-align: top;\n",
       "    }\n",
       "\n",
       "    .dataframe thead th {\n",
       "        text-align: right;\n",
       "    }\n",
       "</style>\n",
       "<table border=\"1\" class=\"dataframe\">\n",
       "  <thead>\n",
       "    <tr style=\"text-align: right;\">\n",
       "      <th></th>\n",
       "      <th>Unique ID</th>\n",
       "      <th>Email</th>\n",
       "      <th>Address</th>\n",
       "      <th>Scholar Grade</th>\n",
       "      <th>Scholar 1 Enrollment Status</th>\n",
       "      <th>Guardian_First</th>\n",
       "      <th>Guardian_last</th>\n",
       "      <th>Scholar_First</th>\n",
       "      <th>Scholar_Last</th>\n",
       "    </tr>\n",
       "  </thead>\n",
       "  <tbody>\n",
       "    <tr>\n",
       "      <th>0</th>\n",
       "      <td>7356714015</td>\n",
       "      <td>rasca@outlook.com</td>\n",
       "      <td>2856 Rhonda Lane Denver CO 80207</td>\n",
       "      <td>K</td>\n",
       "      <td>Application Submitted</td>\n",
       "      <td>London</td>\n",
       "      <td>Cameron</td>\n",
       "      <td>Atticus</td>\n",
       "      <td>Jackson</td>\n",
       "    </tr>\n",
       "    <tr>\n",
       "      <th>1</th>\n",
       "      <td>3233233322</td>\n",
       "      <td>Marley.Allen@gmail.com</td>\n",
       "      <td>1638 E Washington St Denver CO 80219</td>\n",
       "      <td>Second</td>\n",
       "      <td>Currently Enrolled</td>\n",
       "      <td>Marley</td>\n",
       "      <td>Allen</td>\n",
       "      <td>Carlo</td>\n",
       "      <td>Huang</td>\n",
       "    </tr>\n",
       "    <tr>\n",
       "      <th>2</th>\n",
       "      <td>4344344433</td>\n",
       "      <td>Yair.Harrington@gmail.com</td>\n",
       "      <td>628 n Lafayette st. Denver CO 80219</td>\n",
       "      <td>Second</td>\n",
       "      <td>Currently Enrolled</td>\n",
       "      <td>Yair</td>\n",
       "      <td>Harrington</td>\n",
       "      <td>Mitchell</td>\n",
       "      <td>Castillo</td>\n",
       "    </tr>\n",
       "    <tr>\n",
       "      <th>3</th>\n",
       "      <td>5467891234</td>\n",
       "      <td>Ashanti.Huynh@gmail.com</td>\n",
       "      <td>58 S 2nd street Denver CO 80219</td>\n",
       "      <td>Second</td>\n",
       "      <td>Currently Enrolled</td>\n",
       "      <td>Ashanti</td>\n",
       "      <td>Huynh</td>\n",
       "      <td>Melina</td>\n",
       "      <td>Ward</td>\n",
       "    </tr>\n",
       "    <tr>\n",
       "      <th>4</th>\n",
       "      <td>7899877799</td>\n",
       "      <td>Ashanti.Sellers@gmail.com</td>\n",
       "      <td>58 S 2nd Street Denver CO 80219</td>\n",
       "      <td>Second</td>\n",
       "      <td>Currently Enrolled</td>\n",
       "      <td>Ashanti</td>\n",
       "      <td>Sellers</td>\n",
       "      <td>Braden</td>\n",
       "      <td>McClain</td>\n",
       "    </tr>\n",
       "  </tbody>\n",
       "</table>\n",
       "</div>"
      ],
      "text/plain": [
       "    Unique ID                      Email  \\\n",
       "0  7356714015          rasca@outlook.com   \n",
       "1  3233233322     Marley.Allen@gmail.com   \n",
       "2  4344344433  Yair.Harrington@gmail.com   \n",
       "3  5467891234    Ashanti.Huynh@gmail.com   \n",
       "4  7899877799  Ashanti.Sellers@gmail.com   \n",
       "\n",
       "                                Address Scholar Grade  \\\n",
       "0      2856 Rhonda Lane Denver CO 80207             K   \n",
       "1  1638 E Washington St Denver CO 80219        Second   \n",
       "2   628 n Lafayette st. Denver CO 80219        Second   \n",
       "3       58 S 2nd street Denver CO 80219        Second   \n",
       "4       58 S 2nd Street Denver CO 80219        Second   \n",
       "\n",
       "  Scholar 1 Enrollment Status Guardian_First Guardian_last Scholar_First  \\\n",
       "0       Application Submitted         London       Cameron       Atticus   \n",
       "1          Currently Enrolled         Marley         Allen         Carlo   \n",
       "2          Currently Enrolled           Yair    Harrington      Mitchell   \n",
       "3          Currently Enrolled        Ashanti         Huynh        Melina   \n",
       "4          Currently Enrolled        Ashanti       Sellers        Braden   \n",
       "\n",
       "  Scholar_Last  \n",
       "0      Jackson  \n",
       "1        Huang  \n",
       "2     Castillo  \n",
       "3         Ward  \n",
       "4      McClain  "
      ]
     },
     "execution_count": 43,
     "metadata": {},
     "output_type": "execute_result"
    }
   ],
   "source": [
    "def first_name(name):\n",
    "    result = name.split()[0]\n",
    "    return result\n",
    "def last_name(name):\n",
    "    result = name.split()[1]\n",
    "    return result\n",
    "#add columns and split the names\n",
    "df['Guardian_First'] = df['Gardian Name'].apply(lambda x: first_name(x))\n",
    "df['Guardian_last'] = df['Gardian Name'].apply(lambda x: last_name(x))\n",
    "df['Scholar_First'] = df['Scholar Name'].apply(lambda x: first_name(x))\n",
    "df['Scholar_Last'] = df['Scholar Name'].apply(lambda x: last_name(x))\n",
    "#drop original columns\n",
    "df = df.drop(['Gardian Name','Scholar Name'], axis=1)\n",
    "\n",
    "df.head()"
   ]
  },
  {
   "cell_type": "markdown",
   "metadata": {},
   "source": [
    "## Fix the Address Column\n"
   ]
  },
  {
   "cell_type": "code",
   "execution_count": 44,
   "metadata": {},
   "outputs": [],
   "source": [
    "import usaddress"
   ]
  },
  {
   "cell_type": "code",
   "execution_count": 50,
   "metadata": {},
   "outputs": [
    {
     "name": "stdout",
     "output_type": "stream",
     "text": [
      "[('58', 'AddressNumber'), ('S', 'StreetNamePreDirectional'), ('2nd', 'StreetName'), ('Street', 'StreetNamePostType'), ('Denver', 'PlaceName'), ('CO', 'StateName'), ('80219', 'ZipCode')]\n"
     ]
    }
   ],
   "source": [
    "# Parse and label an address\n",
    "address = \"58 S 2nd Street Denver CO 80219\"\n",
    "parsed_address = usaddress.parse(address)\n",
    "\n",
    "# Print the parsed address\n",
    "print(parsed_address)"
   ]
  },
  {
   "cell_type": "code",
   "execution_count": 56,
   "metadata": {},
   "outputs": [
    {
     "data": {
      "text/plain": [
       "{'address_line_1': '58 S 2ND ST',\n",
       " 'address_line_2': None,\n",
       " 'city': 'DENVER',\n",
       " 'state': 'CO',\n",
       " 'postal_code': '80219'}"
      ]
     },
     "execution_count": 56,
     "metadata": {},
     "output_type": "execute_result"
    }
   ],
   "source": [
    "#scourgify https://github.com/GreenBuildingRegistry/usaddress-scourgify\n",
    "from scourgify import normalize_address_record\n",
    "\n",
    "record = normalize_address_record('58 s 2nd Street Denver CO 80219')\n",
    "\n",
    "record"
   ]
  },
  {
   "cell_type": "code",
   "execution_count": 57,
   "metadata": {},
   "outputs": [
    {
     "data": {
      "text/plain": [
       "'58 S 2ND ST'"
      ]
     },
     "execution_count": 57,
     "metadata": {},
     "output_type": "execute_result"
    }
   ],
   "source": [
    "record['address_line_1']"
   ]
  },
  {
   "cell_type": "markdown",
   "metadata": {},
   "source": [
    "## Fix Student Grade"
   ]
  },
  {
   "cell_type": "markdown",
   "metadata": {},
   "source": [
    "## Reorder Columns\n",
    "We will reorder the columns back to their original spots"
   ]
  }
 ],
 "metadata": {
  "kernelspec": {
   "display_name": "discs-env",
   "language": "python",
   "name": "discs-env"
  },
  "language_info": {
   "codemirror_mode": {
    "name": "ipython",
    "version": 3
   },
   "file_extension": ".py",
   "mimetype": "text/x-python",
   "name": "python",
   "nbconvert_exporter": "python",
   "pygments_lexer": "ipython3",
   "version": "3.8.5"
  }
 },
 "nbformat": 4,
 "nbformat_minor": 4
}
